{
 "cells": [
  {
   "cell_type": "markdown",
   "id": "d5bf8196",
   "metadata": {},
   "source": [
    "# main"
   ]
  },
  {
   "cell_type": "code",
   "execution_count": 1,
   "id": "c86c0e07",
   "metadata": {},
   "outputs": [],
   "source": [
    "import numpy as np\n",
    "import matplotlib as mpl\n",
    "import matplotlib.pyplot as plt\n",
    "import pandas as pd\n",
    "\n",
    "mpl.rc(\"figure\", dpi=150)\n",
    "mpl.rc(\"figure\", figsize=(4,4))\n",
    "\n",
    "plt.rcParams.update({\n",
    "    \"pgf.texsystem\": \"pdflatex\",\n",
    "    'font.family': 'serif',\n",
    "    'text.usetex': True,\n",
    "    'pgf.rcfonts': False,\n",
    "    'xtick.labelsize':9,\n",
    "    'ytick.labelsize':9,\n",
    "    'axes.labelsize':12,\n",
    "})\n",
    "\n",
    "import os\n",
    "import re"
   ]
  },
  {
   "cell_type": "code",
   "execution_count": 2,
   "id": "a74ab972",
   "metadata": {},
   "outputs": [],
   "source": [
    "# extra stuff\n",
    "from matplotlib.ticker import FormatStrFormatter, ScalarFormatter\n",
    "\n",
    "# formatting\n",
    "formatter = ScalarFormatter(useMathText=True)\n",
    "formatter.set_powerlimits((-2, 2))  # Sets limits for when to use scientific notation"
   ]
  },
  {
   "cell_type": "code",
   "execution_count": 3,
   "id": "3ea5340d",
   "metadata": {},
   "outputs": [
    {
     "data": {
      "text/plain": [
       "100"
      ]
     },
     "execution_count": 3,
     "metadata": {},
     "output_type": "execute_result"
    }
   ],
   "source": [
    "# output directory\n",
    "dir = '../data.lbm/'\n",
    "\n",
    "# all ticks are found using regular expressions\n",
    "files = os.listdir(dir)\n",
    "ticks = []\n",
    "\n",
    "pattern = r'fluidTrj_(\\d+)\\.csv'\n",
    "\n",
    "for file in files:\n",
    "    match = re.search(pattern, file)\n",
    "    if match:\n",
    "        ticks.append(int(match.group(1)))\n",
    "        \n",
    "ticks.sort()\n",
    "\n",
    "len(ticks)"
   ]
  },
  {
   "cell_type": "markdown",
   "id": "9fc9cb55",
   "metadata": {},
   "source": [
    "# Figures"
   ]
  },
  {
   "cell_type": "code",
   "execution_count": 4,
   "id": "b0ebe467",
   "metadata": {},
   "outputs": [],
   "source": [
    "fluidDf = pd.read_csv(dir + f\"fluidTrj_{ticks[-1]}.csv\").set_index([\"id_x\",\"id_y\"]).sort_index()"
   ]
  },
  {
   "cell_type": "code",
   "execution_count": 5,
   "id": "f6335cb6",
   "metadata": {},
   "outputs": [],
   "source": [
    "F = 1e-4 # force density units\n",
    "h = 10 # mm\n",
    "rho = 1 # water density units\n",
    "nu = 0.890 # (mm)²/(s)"
   ]
  },
  {
   "cell_type": "code",
   "execution_count": 6,
   "id": "45fe9ce4",
   "metadata": {},
   "outputs": [
    {
     "data": {
      "text/plain": [
       "0.0056179775280898875"
      ]
     },
     "execution_count": 6,
     "metadata": {},
     "output_type": "execute_result"
    }
   ],
   "source": [
    "uC = F/(2*rho*nu) * h**2\n",
    "uC"
   ]
  },
  {
   "cell_type": "code",
   "execution_count": 7,
   "id": "aefee500",
   "metadata": {},
   "outputs": [],
   "source": [
    "def fluidOverview(df):\n",
    "    df = df.query('coordinate_y <= 10 & coordinate_y >= -10')\n",
    "    # figure preparation\n",
    "    fig, axes = plt.subplots(figsize = (3,1.5))\n",
    "    fig.subplots_adjust(right=0.875)  # Adjust the right space to make room for the colorbar\n",
    "\n",
    "\n",
    "    # Create a meshgrid for plotting\n",
    "    x_unique = df['coordinate_x'].unique()\n",
    "    y_unique = df['coordinate_y'].unique()\n",
    "    X, Y = np.meshgrid(x_unique, y_unique)\n",
    "\n",
    "    # first plot\n",
    "    upperLim = 1\n",
    "    lowerLim = 0.\n",
    "    cmap = plt.get_cmap('cividis')\n",
    "    norm = plt.Normalize(lowerLim, upperLim)\n",
    "\n",
    "    axes.pcolormesh(X, Y,\n",
    "        (np.sqrt(df.fluidVelocity_x**2 + df.fluidVelocity_y**2)/uC).unstack().values.transpose(),\n",
    "        vmin=lowerLim,\n",
    "        vmax=upperLim,\n",
    "        cmap=cmap, alpha = 0.85\n",
    "    );\n",
    "    axes.set_xticks([-20, 0, 20])\n",
    "    axes.set_xlabel(\"$x ~ (\\\\mu \\\\mathrm{m})$\")\n",
    "    axes.set_ylim(-10,10)\n",
    "    axes.set_yticks([-10, 0, 10])\n",
    "    axes.set_ylabel(\"$y ~ (\\\\mu \\\\mathrm{m})$\")\n",
    "    \n",
    "    maskStep = int(len(x_unique)/12)\n",
    "    # Create a mask for filtering\n",
    "    mask = (df['coordinate_x'].isin(x_unique[::maskStep])) & (df['coordinate_y'].isin(y_unique[::maskStep])) & (\n",
    "        (df.fluidVelocity_x**2 + df.fluidVelocity_y**2 > 1e-16)\n",
    "    )\n",
    "    # Filter the DataFrame\n",
    "    filtered_df = df[mask]\n",
    "    \n",
    "    axes.quiver(\n",
    "        filtered_df['coordinate_x'], \n",
    "        filtered_df['coordinate_y'], \n",
    "        (filtered_df.fluidVelocity_x / np.sqrt(filtered_df.fluidVelocity_x**2 + filtered_df.fluidVelocity_y**2)),\n",
    "        (filtered_df.fluidVelocity_y / np.sqrt(filtered_df.fluidVelocity_x**2 + filtered_df.fluidVelocity_y**2)),\n",
    "        # scale = 30,\n",
    "    )\n",
    "    \n",
    "    axes.axvline(-10, color = \"#CA3D34\", alpha = 1, linewidth=1, linestyle='dashed')\n",
    "\n",
    "    cbar_ax = fig.add_axes([0.9, 0.15, 0.025, 0.7])  # [left, bottom, width, height] for the colorbar\n",
    "    sm = plt.cm.ScalarMappable(cmap=cmap, norm=norm)\n",
    "    sm.set_array([])\n",
    "    cbar = fig.colorbar(sm, cax=cbar_ax, alpha=0.85)\n",
    "    cbar.set_label(label='$\\\\mathbf{u}/u_\\\\mathrm{c}$')\n",
    "\n",
    "    custom_ticks = np.array([lowerLim, upperLim/2, upperLim])\n",
    "    cbar.set_ticks(custom_ticks)\n",
    "    cbar.set_ticklabels([f'{tick:.1f}' for tick in custom_ticks])\n",
    "    \n",
    "    return fig, axes"
   ]
  },
  {
   "cell_type": "code",
   "execution_count": 8,
   "id": "96a49eab",
   "metadata": {},
   "outputs": [
    {
     "data": {
      "image/png": "[encoded data removed]",
      "text/plain": [
       "<Figure size 450x225 with 2 Axes>"
      ]
     },
     "metadata": {},
     "output_type": "display_data"
    }
   ],
   "source": [
    "fig, axes = fluidOverview(fluidDf)\n",
    "plt.savefig(\"figs/figure1.png\", format=\"png\", transparent=True, dpi=72, bbox_inches=\"tight\")\n",
    "plt.savefig(\"figs/figure1hd.png\", format=\"png\", transparent=True, dpi=300, bbox_inches=\"tight\")\n",
    "plt.show()"
   ]
  },
  {
   "cell_type": "code",
   "execution_count": 9,
   "id": "66ee904d",
   "metadata": {},
   "outputs": [
    {
     "data": {
      "image/png": "[encoded data removed]",
      "text/plain": [
       "<Figure size 300x225 with 1 Axes>"
      ]
     },
     "metadata": {},
     "output_type": "display_data"
    }
   ],
   "source": [
    "def figure(df):\n",
    "    df = df.query('coordinate_y <= 10 & coordinate_y >= -10')\n",
    "    \n",
    "    poiseuille_v = -F/(2*rho*nu) * (df.coordinate_y**2 - h**2); poiseuille_v = (poiseuille_v + abs(poiseuille_v))/2\n",
    "    \n",
    "    fig, ax = plt.subplots(figsize = (2.,1.5))\n",
    "\n",
    "    ax.plot(df.coordinate_y, df.fluidVelocity_x/uC, alpha=0.75, label='\\\\texttt{LBMengine.jl}') \n",
    "    ax.plot(df.coordinate_y, poiseuille_v/uC, alpha=0.75, label='NS solution') \n",
    "    ax.set_xticks([-10, 0, 10])\n",
    "    ax.set_yticks([0, 0.5, 1])\n",
    "    ax.legend()\n",
    "\n",
    "    ax.set_xlabel(\"$y ~ (\\\\mu \\\\mathrm{m})$\")\n",
    "    ax.set_ylabel(\"$u_x / u_\\\\mathrm{c}$\")\n",
    "    \n",
    "    return fig, ax\n",
    "\n",
    "id = fluidDf.query(\"coordinate_x >= -10\").reset_index().iloc[0].filter([\"id_x\"]).values[0]\n",
    "v_x = fluidDf.loc[id].filter([\"coordinate_y\", \"fluidVelocity_x\"])\n",
    "\n",
    "fig, ax = figure(v_x)\n",
    "plt.savefig(\"figs/figure2.pdf\", format=\"pdf\", bbox_inches=\"tight\")\n",
    "plt.show()"
   ]
  },
  {
   "cell_type": "markdown",
   "id": "499e08a7",
   "metadata": {},
   "source": [
    "# Stability analysis"
   ]
  },
  {
   "cell_type": "markdown",
   "id": "6936fc71",
   "metadata": {},
   "source": [
    "In an effort to verify a stable equilibrium state was achieved, the mean fluid speed is studied as a function of time."
   ]
  },
  {
   "cell_type": "code",
   "execution_count": 10,
   "id": "a64a2847",
   "metadata": {},
   "outputs": [],
   "source": [
    "def avgSpeed(df):\n",
    "    return np.sqrt(df.fluidVelocity_x**2 + df.fluidVelocity_y**2).mean()"
   ]
  },
  {
   "cell_type": "code",
   "execution_count": 11,
   "id": "8860e721",
   "metadata": {},
   "outputs": [
    {
     "name": "stdout",
     "output_type": "stream",
     "text": [
      "          "
     ]
    }
   ],
   "source": [
    "try:\n",
    "    avgFluidSpeed \n",
    "except NameError:\n",
    "    avgFluidSpeed = []\n",
    "    \n",
    "try:\n",
    "    time \n",
    "except NameError:\n",
    "    time = []\n",
    "\n",
    "for tick in ticks[len(time)::]:\n",
    "    auxDf = pd.read_csv(dir + f\"fluidTrj_{tick}.csv\")\n",
    "    avgFluidSpeed.append(avgSpeed(auxDf))\n",
    "    time.append(auxDf.time.values[0])\n",
    "    print(f'\\r{tick}', end='', flush=True)\n",
    "print('\\r'+' '*10, end='', flush=True)"
   ]
  },
  {
   "cell_type": "code",
   "execution_count": 12,
   "id": "4005c0b7",
   "metadata": {},
   "outputs": [
    {
     "data": {
      "image/png": "[encoded data removed]",
      "text/plain": [
       "<Figure size 225x225 with 1 Axes>"
      ]
     },
     "metadata": {},
     "output_type": "display_data"
    }
   ],
   "source": [
    "fig, ax = plt.subplots(figsize = (1.5,1.5))\n",
    "\n",
    "ax.plot(time, avgFluidSpeed)\n",
    "ax.set_xlabel(\"$t ~ (\\\\mu \\\\mathrm{s})$\")\n",
    "ax.set_ylabel(\"$|u| ~ (\\\\mu \\\\mathrm{m} / \\\\mu \\\\mathrm{s})$\")\n",
    "\n",
    "plt.show()"
   ]
  }
 ],
 "metadata": {
  "kernelspec": {
   "display_name": "Python 3 (ipykernel)",
   "language": "python",
   "name": "python3"
  },
  "language_info": {
   "codemirror_mode": {
    "name": "ipython",
    "version": 3
   },
   "file_extension": ".py",
   "mimetype": "text/x-python",
   "name": "python",
   "nbconvert_exporter": "python",
   "pygments_lexer": "ipython3",
   "version": "3.13.5"
  }
 },
 "nbformat": 4,
 "nbformat_minor": 5
}
